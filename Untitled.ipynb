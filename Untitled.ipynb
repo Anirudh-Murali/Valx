{
 "cells": [
  {
   "cell_type": "code",
   "execution_count": 1,
   "metadata": {
    "ExecuteTime": {
     "end_time": "2020-11-26T09:47:59.422160Z",
     "start_time": "2020-11-26T09:47:58.892718Z"
    }
   },
   "outputs": [
    {
     "name": "stderr",
     "output_type": "stream",
     "text": [
      "fatal: destination path 'Valx' already exists and is not an empty directory.\n"
     ]
    }
   ],
   "source": [
    "!git clone https://github.com/purunfer22/Valx.git"
   ]
  },
  {
   "cell_type": "code",
   "execution_count": 10,
   "metadata": {
    "ExecuteTime": {
     "end_time": "2020-11-26T09:52:39.267566Z",
     "start_time": "2020-11-26T09:52:39.247515Z"
    }
   },
   "outputs": [],
   "source": [
    "import Valx_core\n",
    "from tqdm import tqdm_notebook\n",
    "import pandas as pd"
   ]
  },
  {
   "cell_type": "code",
   "execution_count": 30,
   "metadata": {
    "ExecuteTime": {
     "end_time": "2020-11-26T10:08:05.086973Z",
     "start_time": "2020-11-26T10:08:05.063409Z"
    },
    "code_folding": [
     82
    ]
   },
   "outputs": [],
   "source": [
    "# Valx: A system for extracting and structuring numeric lab test comparison statements from text\n",
    "# Created by Tony HAO, th2510@columbia.edu\n",
    "# Please kindly cite the paper: Tianyong Hao, Hongfang Liu, Chunhua Weng. Valx: A system for extracting and structuring numeric lab test comparison statements from text. Methods of Information in Medicine. Vol. 55: Issue 3, pp. 266-275, 2016\n",
    "\n",
    "import W_utility.file as ufile\n",
    "from W_utility.log import ext_print\n",
    "import os,sys,re\n",
    "import Valx_core\n",
    "debug=True\n",
    "\n",
    "def extract_variables (fdin, ffea, ffea2, var):\n",
    "    # read input data\n",
    "    if fdin is None or fdin ==\"\": return False\n",
    "    trials = pd.read_csv(fdin,header=None)\n",
    "    if trials is None or len(trials) <= 0:\n",
    "        print(ext_print ('input data error, please check either no such file or no data --- interrupting'))\n",
    "        return False\n",
    "    print(ext_print ('found a total of %d data items' % len(trials)))\n",
    "    \n",
    "    # read feature list - domain knowledge\n",
    "    if ffea is None or ffea ==\"\": return False\n",
    "    fea_dict_dk = ufile.read_csv_as_dict_with_multiple_items (ffea)\n",
    "    if fea_dict_dk is None or len(fea_dict_dk) <= 0:\n",
    "        print(ext_print ('no feature data available --- interrupting'))\n",
    "        return False\n",
    "\n",
    "    # get feature info\n",
    "    features, feature_dict_dk = {}, {}\n",
    "    if var == \"All\":\n",
    "        features = fea_dict_dk\n",
    "        del features[\"Variable name\"]\n",
    "    elif var in fea_dict_dk:\n",
    "        features = {var:fea_dict_dk[var]}\n",
    "    for key, value in fea_dict_dk.items():\n",
    "        names = value[0].lower().split('|')\n",
    "        for name in names:\n",
    "            if name.strip() != '': feature_dict_dk[name.strip()] =key\n",
    "\n",
    "    # read feature list - UMLS (can be replaced by full UMLS)\n",
    "    if ffea2 is None or ffea2 ==\"\": return False\n",
    "    fea_dict_umls = ufile.read_csv_as_dict (ffea2)\n",
    "    if fea_dict_umls is None or len(fea_dict_umls) <= 0:\n",
    "        print(ext_print ('no feature data available --- interrupting'))\n",
    "        return False\n",
    "\n",
    "    #load numeric feature list\n",
    "    Valx_core.init_features()\n",
    "\n",
    "    output = []\n",
    "    for i in tqdm_notebook(range(0,len(trials))):\n",
    "        if i%1000 == 0:\n",
    "            print ('processing %d' % i)\n",
    "        # pre-processing eligibility criteria text\n",
    "        text = Valx_core.preprocessing(trials.iloc[i,1]) # trials[i][1] is the eligibility criteria text\n",
    "        if debug: print(text)\n",
    "        (sections_num, candidates_num) = Valx_core.extract_candidates_numeric(text) # extract candidates containing numeric features\n",
    "        for j in range(0,len(candidates_num)): # for each candidate\n",
    "            if debug: print(f\"Criteria {j} : {text}\")\n",
    "            exp_text = Valx_core.formalize_expressions(candidates_num[j]) # identify and formalize values\n",
    "            if debug: print(f\"formalize_expressions 1 {j} : {exp_text}\")\n",
    "            (exp_text, key_ngrams) = Valx_core.identify_variable(exp_text, feature_dict_dk, fea_dict_umls) # identify variable mentions and map them to names\n",
    "            if debug: print(f\"formalize_expressions 2 {j} : {exp_text}\")\n",
    "            if debug: print(f\"key_ngrams {j} : {key_ngrams}\")\n",
    "            (variables, vars_values) = Valx_core.associate_variable_values(exp_text)\n",
    "            if debug: print(f\"variables {j} : {variables}\")\n",
    "            if debug: print(f\"vars_values {j} : {vars_values}\")\n",
    "            print(variables,vars_values)\n",
    "            all_exps = []\n",
    "            for k in range(0,len(variables)):\n",
    "                curr_var = variables[k]\n",
    "                curr_exps = vars_values[k]\n",
    "                if curr_var in features:\n",
    "                    fea_list = features[curr_var]\n",
    "                    curr_exps = Valx_core.context_validation(curr_exps, fea_list[1], fea_list[2])                           \n",
    "                    curr_exps = Valx_core.normalization(fea_list[3], curr_exps) # unit conversion and value normalization\n",
    "                    curr_exps = Valx_core.hr_validation (curr_exps, float(fea_list[4]), float(fea_list[5])) # heuristic rule-based validation\n",
    "                if len(curr_exps) > 0:\n",
    "                    if var == \"All\" or var.lower() == curr_var.lower() or var.lower() in curr_var.lower(): \n",
    "                        all_exps += curr_exps                     \n",
    "#                 print(curr_var)\n",
    "#                 print(curr_exps)\n",
    "            if len(all_exps) > 0: \n",
    "                output.append((trials.iloc[i,0], sections_num[j], candidates_num[j], exp_text, str(all_exps).replace(\"u'\", \"'\"))) # output result\n",
    "        break\n",
    "    # output result\n",
    "    fout = os.path.splitext(fdin)[0] + \"_exp_%s_out.csv\" % var\n",
    "    ufile.write_csv (fout, output)\n",
    "    print(ext_print ('saved processed results into: %s' % fout))\n",
    "    return output\n",
    "\n",
    "\n",
    "# processing the command line options\n",
    "import argparse\n",
    "def _process_args():\n",
    "    parser = argparse.ArgumentParser(description='')\n",
    "    parser.add_argument('-i', default=r\"D:\\_My_programs\\_CUMC\\Extract_Variables\\_GitHub\\data\\example data diabetes_Type 1.csv\", help='input: a specific disease')\n",
    "    parser.add_argument('-f1', default=r\"D:\\_My_programs\\_CUMC\\Extract_Variables\\_GitHub\\data\\variable_features_dk.csv\", help='input: a feature list')\n",
    "    parser.add_argument('-f2', default=r\"D:\\_My_programs\\_CUMC\\Extract_Variables\\_GitHub\\data\\variable_features_umls.csv\", help='input: a feature list')\n",
    "    parser.add_argument('-v', default=\"HBA1C\", help='Variable name: All, HBA1C, BMI, Glucose, Creatinine, BP-Systolic, BP-Diastolic') # 'All' means to detect all variables\n",
    "    return parser.parse_args(sys.argv[1:])\n",
    "\n",
    "\n",
    "# if __name__ == '__main__' :\n",
    "#     print ''\n",
    "#     args = _process_args()\n",
    "#     extract_variables (args.i, args.f1, args.f2, args.v)\n",
    "#     print ''\n"
   ]
  },
  {
   "cell_type": "code",
   "execution_count": 31,
   "metadata": {
    "ExecuteTime": {
     "end_time": "2020-11-26T10:08:05.764130Z",
     "start_time": "2020-11-26T10:08:05.686946Z"
    },
    "scrolled": false
   },
   "outputs": [
    {
     "name": "stdout",
     "output_type": "stream",
     "text": [
      "[2020-11-26 15:38:05.695943] found a total of 100 data items\n"
     ]
    },
    {
     "name": "stderr",
     "output_type": "stream",
     "text": [
      "C:\\Users\\am21907\\AppData\\Local\\Continuum\\anaconda3\\lib\\site-packages\\ipykernel_launcher.py:50: TqdmDeprecationWarning: This function will be removed in tqdm==5.0.0\n",
      "Please use `tqdm.notebook.tqdm` instead of `tqdm.tqdm_notebook`\n"
     ]
    },
    {
     "data": {
      "application/vnd.jupyter.widget-view+json": {
       "model_id": "9f35cb5f76484f79af14f2412309f5bc",
       "version_major": 2,
       "version_minor": 0
      },
      "text/plain": [
       "HBox(children=(FloatProgress(value=0.0), HTML(value='')))"
      ]
     },
     "metadata": {},
     "output_type": "display_data"
    },
    {
     "name": "stdout",
     "output_type": "stream",
     "text": [
      "processing 0\n",
      "inclusion criteria:# - individuals 3-45 years old who have an immediate family member with type 1 diabetes (such as a child, parent or sibling)# - individuals 3-20 years old who have an extended family member with type 1 diabetes (such as a cousin, niece, nephew, aunt, uncle, grandparent or half-sibling)# exclusion criteria:# - to be eligible, a person must:# - not have diabetes already.# - have no previous history of being treated with insulin or oral diabetes medications.# - have not received any prior therapy for prevention of type 1 diabetes such as insulin, nicotinamide or immunosuppressive drugs (i.e. have not been involved in any previous clinical studies of these agents.)# - have no known serious diseases.# - if you are a woman, you must not be planning to become pregnant during the course of the study. you will not be excluded from participation but are not encouraged to volunteer in the first place if you plan to have a baby during the trial period).\n",
      "Criteria 0 : inclusion criteria:# - individuals 3-45 years old who have an immediate family member with type 1 diabetes (such as a child, parent or sibling)# - individuals 3-20 years old who have an extended family member with type 1 diabetes (such as a cousin, niece, nephew, aunt, uncle, grandparent or half-sibling)# exclusion criteria:# - to be eligible, a person must:# - not have diabetes already.# - have no previous history of being treated with insulin or oral diabetes medications.# - have not received any prior therapy for prevention of type 1 diabetes such as insulin, nicotinamide or immunosuppressive drugs (i.e. have not been involved in any previous clinical studies of these agents.)# - have no known serious diseases.# - if you are a woman, you must not be planning to become pregnant during the course of the study. you will not be excluded from participation but are not encouraged to volunteer in the first place if you plan to have a baby during the trial period).\n",
      "formalize_expressions 1 0 : individuals <VML Logic=equal Unit=years>3</VML> - <VML Logic=equal Unit=years>45</VML> old who have an immediate family member with type 1 diabetes ( such as a child, parent or sibling ) \n",
      "formalize_expressions 2 0 : individuals <VML Logic=equal Unit=years>3</VML> - <VML Logic=equal Unit=years>45</VML> old who have an immediate family member with type 1 diabetes ( such as a child, parent or sibling ) \n",
      "key_ngrams 0 : []\n",
      "variables 0 : []\n",
      "vars_values 0 : []\n",
      "[] []\n",
      "Criteria 1 : inclusion criteria:# - individuals 3-45 years old who have an immediate family member with type 1 diabetes (such as a child, parent or sibling)# - individuals 3-20 years old who have an extended family member with type 1 diabetes (such as a cousin, niece, nephew, aunt, uncle, grandparent or half-sibling)# exclusion criteria:# - to be eligible, a person must:# - not have diabetes already.# - have no previous history of being treated with insulin or oral diabetes medications.# - have not received any prior therapy for prevention of type 1 diabetes such as insulin, nicotinamide or immunosuppressive drugs (i.e. have not been involved in any previous clinical studies of these agents.)# - have no known serious diseases.# - if you are a woman, you must not be planning to become pregnant during the course of the study. you will not be excluded from participation but are not encouraged to volunteer in the first place if you plan to have a baby during the trial period).\n",
      "formalize_expressions 1 1 : individuals <VML Logic=equal Unit=years>3</VML> - <VML Logic=equal Unit=years>20</VML> old who have an extended family member with type 1 diabetes ( such as a cousin, niece, nephew, aunt, uncle, grandparent or half-sibling ) \n",
      "formalize_expressions 2 1 : individuals <VML Logic=equal Unit=years>3</VML> - <VML Logic=equal Unit=years>20</VML> old who have an extended family member with type 1 diabetes ( such as a cousin, niece, nephew, aunt, uncle, grandparent or half-sibling ) \n",
      "key_ngrams 1 : []\n",
      "variables 1 : []\n",
      "vars_values 1 : []\n",
      "[] []\n",
      "Criteria 2 : inclusion criteria:# - individuals 3-45 years old who have an immediate family member with type 1 diabetes (such as a child, parent or sibling)# - individuals 3-20 years old who have an extended family member with type 1 diabetes (such as a cousin, niece, nephew, aunt, uncle, grandparent or half-sibling)# exclusion criteria:# - to be eligible, a person must:# - not have diabetes already.# - have no previous history of being treated with insulin or oral diabetes medications.# - have not received any prior therapy for prevention of type 1 diabetes such as insulin, nicotinamide or immunosuppressive drugs (i.e. have not been involved in any previous clinical studies of these agents.)# - have no known serious diseases.# - if you are a woman, you must not be planning to become pregnant during the course of the study. you will not be excluded from participation but are not encouraged to volunteer in the first place if you plan to have a baby during the trial period).\n",
      "formalize_expressions 1 2 : have not received any prior therapy for prevention of type 1 diabetes such as insulin, nicotinamide or immunosuppressive drugs ( i.e\n",
      "formalize_expressions 2 2 : have not received any prior therapy for prevention of type 1 diabetes such as insulin, nicotinamide or immunosuppressive drugs ( i.e\n",
      "key_ngrams 2 : []\n",
      "variables 2 : []\n",
      "vars_values 2 : []\n",
      "[] []\n",
      "\n",
      "[2020-11-26 15:38:05.761118] saved processed results into: data/example data diabetes_Type 1_exp_All_out.csv\n"
     ]
    },
    {
     "data": {
      "text/plain": [
       "[]"
      ]
     },
     "execution_count": 31,
     "metadata": {},
     "output_type": "execute_result"
    }
   ],
   "source": [
    "extract_variables('data/example data diabetes_Type 1.csv',\n",
    "                 'data/variable_features_dk.csv',\n",
    "                 'data/variable_features_umls.csv',\n",
    "                 'All')"
   ]
  },
  {
   "cell_type": "code",
   "execution_count": 21,
   "metadata": {
    "ExecuteTime": {
     "end_time": "2020-11-26T09:56:05.997412Z",
     "start_time": "2020-11-26T09:56:05.985882Z"
    }
   },
   "outputs": [
    {
     "data": {
      "text/plain": [
       "'Inclusion Criteria:#          -  Candidates must be between the ages of 18 and 65#          -  Candidates must have had IDDM for at least 5 years and been under physician care for             at least 6 months prior to enrollment in trial.#          -  Eligible candidates will have poorly controlled insulin-dependent diabetes mellitus             (IDDM) and manifest signs and symptoms severe enough to be incapacitating. These             symptoms can include episodes of hypoglycemic unawareness (failure to recognize blood             glucose levels < 54 mg/dl) or episodes requiring the assistance of others.#          -  Candidates may have poor diabetes control despite intensive insulin therapy (HbA1c >             8.0%).#          -  Creatinine clearance should be > 60 ml/min)#          -  Body Mass Index should be less than 26#          -  Women of child-bearing age must have a negative pregnancy test and agree to follow             effective contraceptive measures for the duration of the trial.#        Exclusion Criteria:#          -  Previous or concurrent organ transplant#          -  Previous or concurrent malignancy#          -  Untreated proliferative diabetic retinopathy#          -  Unstable cardiovascular status, including positive stress echocardiography (if > age             35)#          -  Active infections, including x-ray evidence of pulmonary infection#          -  Peptic ulcer disease, gall stones, or portal hypertension#          -  Abnormal liver function tests#          -  Presence of panel reactive antibodies > 20%#          -  Creatinine clearance < 60 ml/min#          -  HbA1c  12%#          -  Serological evidence of HIV, HbsAg, or HCV#          -  Anemia (hemoglobin < 12.0)#          -  Any condition or circumstance, including psychogenic factors, that preclude             therapeutic compliance or otherwise make it unsafe to undergo an islet cell             transplant.#          -  PSA > 4 in males'"
      ]
     },
     "execution_count": 21,
     "metadata": {},
     "output_type": "execute_result"
    }
   ],
   "source": [
    "pd.read_csv(\"data/example data diabetes_Type 1.csv\",header=None).iloc[2,1]"
   ]
  },
  {
   "cell_type": "code",
   "execution_count": null,
   "metadata": {
    "ExecuteTime": {
     "end_time": "2020-11-26T09:48:01.770701Z",
     "start_time": "2020-11-26T09:47:58.902Z"
    },
    "code_folding": [
     0
    ]
   },
   "outputs": [],
   "source": [
    "ie_text = Valx_core.preprocessing(text)\n",
    "inclusion_text,exclusion_text = Valx_core.split_text_inclusion_exclusion(ie_text)\n",
    "(sections_num, candidates_num) = Valx_core.extract_candidates_numeric(ie_text)\n",
    "exp_text = Valx_core.formalize_expressions(candidates_num[1])\n",
    "(exp_text, key_ngrams) = Valx_core.identify_variable(exp_text, feature_dict_dk, fea_dict_umls) # identify variable mentions and map them to names\n",
    "(variables, vars_values) = Valx_core.associate_variable_values(exp_text)"
   ]
  }
 ],
 "metadata": {
  "hide_input": false,
  "kernelspec": {
   "display_name": "Python 3",
   "language": "python",
   "name": "python3"
  },
  "language_info": {
   "codemirror_mode": {
    "name": "ipython",
    "version": 3
   },
   "file_extension": ".py",
   "mimetype": "text/x-python",
   "name": "python",
   "nbconvert_exporter": "python",
   "pygments_lexer": "ipython3",
   "version": "3.7.3"
  },
  "toc": {
   "base_numbering": 1,
   "nav_menu": {},
   "number_sections": true,
   "sideBar": true,
   "skip_h1_title": false,
   "title_cell": "Table of Contents",
   "title_sidebar": "Contents",
   "toc_cell": false,
   "toc_position": {},
   "toc_section_display": true,
   "toc_window_display": false
  },
  "varInspector": {
   "cols": {
    "lenName": 16,
    "lenType": 16,
    "lenVar": 40
   },
   "kernels_config": {
    "python": {
     "delete_cmd_postfix": "",
     "delete_cmd_prefix": "del ",
     "library": "var_list.py",
     "varRefreshCmd": "print(var_dic_list())"
    },
    "r": {
     "delete_cmd_postfix": ") ",
     "delete_cmd_prefix": "rm(",
     "library": "var_list.r",
     "varRefreshCmd": "cat(var_dic_list()) "
    }
   },
   "types_to_exclude": [
    "module",
    "function",
    "builtin_function_or_method",
    "instance",
    "_Feature"
   ],
   "window_display": false
  }
 },
 "nbformat": 4,
 "nbformat_minor": 2
}
